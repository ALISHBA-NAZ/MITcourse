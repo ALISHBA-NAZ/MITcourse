{
 "cells": [
  {
   "cell_type": "code",
   "execution_count": 2,
   "id": "e2823be9",
   "metadata": {},
   "outputs": [
    {
     "name": "stdout",
     "output_type": "stream",
     "text": [
      "alish.naz@gmail.com\n",
      "harry.code@gmail.com\n",
      "harry code\n",
      "alish naz\n"
     ]
    }
   ],
   "source": [
    "class Employee:\n",
    "    def __init__(self, first, last, pay):\n",
    "        self.first = first\n",
    "        self.last = last\n",
    "        self.pay = pay\n",
    "        self.email = first +'.'+ last + '@gmail.com'\n",
    "  \n",
    "          \n",
    "    def fulname(self):\n",
    "        return '{} {}'.format(self.first, self.last)\n",
    "        \n",
    "emp_1 = Employee('alish', 'naz', 50000)\n",
    "emp_2 = Employee('harry', 'code', 60000)\n",
    "\n",
    "#print(emp_1)\n",
    "#print(emp_2)\n",
    "\n",
    "\n",
    "print(emp_1.email)\n",
    "print(emp_2.email)\n",
    "print(emp_2.fulname())\n",
    "\n",
    "#print('{} {}'.format(emp_1.first, emp_1.last))\n",
    "\n",
    "emp_1.fulname()\n",
    "\n",
    "print(Employee.fulname(emp_1))"
   ]
  },
  {
   "cell_type": "code",
   "execution_count": 3,
   "id": "3b209401",
   "metadata": {},
   "outputs": [
    {
     "name": "stdout",
     "output_type": "stream",
     "text": [
      "50000\n",
      "60000\n"
     ]
    }
   ],
   "source": [
    "emp_1.first = 'corey'\n",
    "emp_1.last = 'alish'\n",
    "emp_1.email = 'alishnaz56@gmail.com'\n",
    "emp_1.pay = 50000\n",
    "\n",
    "emp_2.first = 'harry'\n",
    "emp_2.last = 'ali'\n",
    "emp_2.email = 'muddasir56@gmail.com'\n",
    "emp_2.pay = 60000\n",
    "\n",
    "print(emp_1.pay)\n",
    "print(emp_2.pay)\n"
   ]
  },
  {
   "cell_type": "code",
   "execution_count": 4,
   "id": "54efebb8",
   "metadata": {},
   "outputs": [
    {
     "name": "stdout",
     "output_type": "stream",
     "text": [
      "0\n",
      "2\n"
     ]
    }
   ],
   "source": [
    "class Employee:\n",
    "    \n",
    "    num_of_emp = 0\n",
    "    raise_amount = 1.04\n",
    "    \n",
    "    def __init__(self, first, last, pay):\n",
    "        self.first = first\n",
    "        self.last = last\n",
    "        self.pay = pay \n",
    "        self.email = first +'.'+ last + '@gmail.com'\n",
    "        \n",
    "        Employee.num_of_emp += 1\n",
    "        \n",
    "    def fulname(self):\n",
    "        return '{} {}'.format(self.first, self.last)\n",
    "    def apply_raise(self):\n",
    "        self.pay = int(self.pay * self.raise_amount)\n",
    "        \n",
    "print(Employee.num_of_emp)\n",
    "        \n",
    "emp_1 = Employee('alish', 'naz', 40000)\n",
    "emp_2 = Employee('ali','code', 50000)\n",
    "\n",
    "#print(emp_1.pay)\n",
    "#emp_1.apply_raise()\n",
    "#print(emp_1.pay)\n",
    "#Employee.raise_amount = 1.05\n",
    "#emp_1.raise_amount = 1.05\n",
    "#print(emp_1.__dict__)\n",
    "#print(Employee.raise_amount)  \n",
    "#print(emp_1.raise_amount)\n",
    "#print(emp_2.raise_amount)\n",
    "\n",
    "print(Employee.num_of_emp)"
   ]
  },
  {
   "cell_type": "code",
   "execution_count": 7,
   "id": "3a85ded8",
   "metadata": {},
   "outputs": [
    {
     "name": "stdout",
     "output_type": "stream",
     "text": [
      "alish.naz@gmail.com\n",
      "40000\n"
     ]
    }
   ],
   "source": [
    "class Employee:\n",
    "    \n",
    "    num_of_emp = 0\n",
    "    raise_amount = 1.04\n",
    "    \n",
    "    def __init__(self, first, last, pay):\n",
    "        self.first = first\n",
    "        self.last = last\n",
    "        self.pay = pay \n",
    "        self.email = first +'.'+ last + '@gmail.com'\n",
    "        \n",
    "        Employee.num_of_emp += 1\n",
    "        \n",
    "    def fulname(self):\n",
    "        return '{} {}'.format(self.first, self.last)\n",
    "    def apply_raise(self):\n",
    "        self.pay = int(self.pay * self.raise_amount)\n",
    "     \n",
    "    @classmethod\n",
    "    def set_raise_amt(cls, amount):\n",
    "        cls.raise_amt = amount\n",
    "\n",
    "        \n",
    "emp_1 = Employee('alish', 'naz', 40000)\n",
    "emp_2 = Employee('ali','code', 50000)\n",
    "\n",
    "emp_str_1 ='alishnaz22'\n",
    "emp_str_2 = 'harrycode1'\n",
    "emp_str_3 = 'muddasirali'\n",
    "\n",
    "\n",
    "\n",
    "print(emp_1.email)\n",
    "print(emp_1.pay)\n",
    "\n",
    "#print(emp_1.pay)\n",
    "#emp_1.apply_raise()\n",
    "#print(emp_1.pay)\n",
    "#Employee.raise_amount = 1.05\n",
    "#emp_1.raise_amount = 1.05\n",
    "#print(emp_1.__dict__)\n",
    "#print(Employee.raise_amount)  \n",
    "#print(emp_1.raise_amount)\n",
    "#print(emp_2.raise_amount)\n",
    "#mp_1.set_raise_amt(1.05)\n",
    "#rint(Employee.raise_amount)  \n",
    "#rint(emp_1.raise_amount)\n",
    "#rint(emp_2.raise_amount)"
   ]
  },
  {
   "cell_type": "code",
   "execution_count": 11,
   "id": "a1a6cd80",
   "metadata": {},
   "outputs": [
    {
     "name": "stdout",
     "output_type": "stream",
     "text": [
      "alish is a developer\n",
      "ali is a HR\n"
     ]
    }
   ],
   "source": [
    " class person:\n",
    "        name = \"alish\"\n",
    "        occ = \"developer\"\n",
    "        \n",
    "        def info(self):\n",
    "            print(f\"{self.name} is a {self.occ}\")\n",
    "a = person()\n",
    "#print(a.name)\n",
    "a.info()      \n",
    "a.name = \"ali\"\n",
    "a.occ = \"HR\"\n",
    "a.info()"
   ]
  },
  {
   "cell_type": "code",
   "execution_count": 19,
   "id": "cdb3be39",
   "metadata": {},
   "outputs": [
    {
     "name": "stdout",
     "output_type": "stream",
     "text": [
      "hey i am a person\n",
      "hey i am a person\n",
      "hey i am a person\n",
      "alish is a developer\n",
      "ali is a hr\n",
      "1 is a 2\n"
     ]
    }
   ],
   "source": [
    "class person:\n",
    "    def __init__(self, n , o):\n",
    "        print(\"hey i am a person\")\n",
    "        self.name = n\n",
    "        self.occ = o\n",
    "        \n",
    "    def info(self):\n",
    "         print(f\"{self.name} is a {self.occ}\")\n",
    "a = person(\"alish\", \"developer\")\n",
    "b = person(\"ali\", \"hr\")\n",
    "c = person(1,2)\n",
    "a.info()\n",
    "b.info()\n",
    "c.info()\n",
    "            "
   ]
  },
  {
   "cell_type": "code",
   "execution_count": 56,
   "id": "cf23aad3",
   "metadata": {},
   "outputs": [
    {
     "name": "stdout",
     "output_type": "stream",
     "text": [
      "good morning\n",
      "hello world\n",
      "thanks for using this function\n"
     ]
    }
   ],
   "source": [
    "def greet (fx):\n",
    "    def mfx():\n",
    "        print(\"good morning\")\n",
    "        fx()\n",
    "        print(\"thanks for using this function\")\n",
    "    return mfx\n",
    "#@greet\n",
    "def hello():\n",
    "    print(\"hello world\")\n",
    "        \n",
    "def add(a, b):\n",
    "    print(a+b)\n",
    "    \n",
    "    \n",
    "greet(hello)()\n"
   ]
  },
  {
   "cell_type": "code",
   "execution_count": 4,
   "id": "0ed0d913",
   "metadata": {},
   "outputs": [
    {
     "name": "stdout",
     "output_type": "stream",
     "text": [
      "Enter the roll number:2\n",
      "Enter the name:alish\n",
      "Enter the marks in first subject:60\n",
      "Enter the marks in second subject:64\n",
      "Enter the marks in third subject:91\n",
      "Enter the marks in fourth subject:78\n",
      "Enter the marks in fifth subject:60\n",
      "Roll number is:  2\n",
      "Name is:  alish\n",
      "Marks are: [60, 64, 91, 78, 60]\n",
      "Total marks are: 353\n"
     ]
    }
   ],
   "source": [
    "class Student:\n",
    "    marks = []\n",
    "    def getdata(self,rn ,name, m1, m2, m3, m4, m5):\n",
    "        Student.rn = rn\n",
    "        Student.name = name\n",
    "        Student.marks.append(m1)\n",
    "        Student.marks.append(m2)\n",
    "        Student.marks.append(m3)\n",
    "        Student.marks.append(m4)\n",
    "        Student.marks.append(m5)\n",
    "        \n",
    "    def displaydata(self):\n",
    "        print(\"Roll number is: \", Student.rn)\n",
    "        print(\"Name is: \", Student.name)\n",
    "        print(\"Marks are:\", Student.marks)\n",
    "    \n",
    "    def total(self):\n",
    "        return (Student.marks[0] + Student.marks[1] + Student.marks[2] +Student.marks[3] + Student.marks[4])\n",
    "    \n",
    "r = int(input(\"Enter the roll number:\"))\n",
    "name = input(\"Enter the name:\")\n",
    "m1 = int(input(\"Enter the marks in first subject:\"))\n",
    "m2 = int(input(\"Enter the marks in second subject:\"))\n",
    "m3 = int(input(\"Enter the marks in third subject:\"))\n",
    "m4 = int(input(\"Enter the marks in fourth subject:\"))\n",
    "m5 = int(input(\"Enter the marks in fifth subject:\"))\n",
    "\n",
    "s1 = Student()\n",
    "s1.getdata(r, name, m1, m2, m3, m4, m5)\n",
    "s1.displaydata()\n",
    "print(\"Total marks are:\", s1.total())"
   ]
  },
  {
   "cell_type": "code",
   "execution_count": 1,
   "id": "cac68ed7",
   "metadata": {},
   "outputs": [
    {
     "name": "stdout",
     "output_type": "stream",
     "text": [
      "enter a radius of circle5\n",
      "Area of c1 circle is :  78.55\n",
      "Circumference of c1 circle is: 31.419999999999998\n",
      "\n",
      "enter a radius of circle6\n",
      "Area of c2 circle is :  113.112\n",
      "Circumference of c2 circle is: 37.704\n",
      "\n"
     ]
    }
   ],
   "source": [
    "class Circle:\n",
    "    PI =3.142\n",
    "    \n",
    "    def __init__(self, radius):\n",
    "        self.radius = radius\n",
    "        \n",
    "    def area(self):\n",
    "        return (Circle.PI * self.radius * self.radius)\n",
    "    \n",
    "    def circumference(self):\n",
    "        return (2 * Circle.PI * self.radius)\n",
    "    \n",
    "r = int(input(\"enter a radius of circle\"))\n",
    "c1 = Circle(r)\n",
    "print(\"Area of c1 circle is : \", c1.area())\n",
    "print(\"Circumference of c1 circle is:\", c1.circumference())\n",
    "print(\"\")\n",
    "r = int(input(\"enter a radius of circle\"))\n",
    "c2 =Circle(r)       \n",
    "print(\"Area of c2 circle is : \", c2.area())\n",
    "print(\"Circumference of c2 circle is:\", c2.circumference())\n",
    "print(\"\")       \n"
   ]
  },
  {
   "cell_type": "code",
   "execution_count": 19,
   "id": "e32f148b",
   "metadata": {},
   "outputs": [
    {
     "name": "stdout",
     "output_type": "stream",
     "text": [
      "720\n"
     ]
    }
   ],
   "source": [
    "def factorial(n):\n",
    "    \n",
    "    factorial =1\n",
    "    \n",
    "    for i in range(n):\n",
    "        factorial*=i+1\n",
    "    \n",
    "    return factorial\n",
    "\n",
    "print(factorial(6))"
   ]
  },
  {
   "cell_type": "code",
   "execution_count": 8,
   "id": "20696b29",
   "metadata": {},
   "outputs": [
    {
     "name": "stdout",
     "output_type": "stream",
     "text": [
      "The value is obtained: 25\n",
      "The value is obtained: 15\n",
      "The value is obtained: 100\n",
      "The value is obtained: 4\n"
     ]
    }
   ],
   "source": [
    "class Calculator:\n",
    "    \n",
    "    def __init__(self,a,b):\n",
    "        self.a = a\n",
    "        self.b = b\n",
    "        \n",
    "    def addition(self):\n",
    "        return self.a + self.b\n",
    "    \n",
    "    def subtraction(self):\n",
    "        return self.a - self.b \n",
    "    \n",
    "    def multiplication(self):\n",
    "        return self.a * self.b \n",
    "    \n",
    "    def division(self):\n",
    "        return self.a // self.b \n",
    "\n",
    "calc = Calculator(20,5)\n",
    "print(\"The value is obtained:\", calc.addition())\n",
    "print(\"The value is obtained:\", calc.subtraction())\n",
    "print(\"The value is obtained:\", calc.multiplication())\n",
    "print(\"The value is obtained:\", calc.division())\n",
    "    \n"
   ]
  },
  {
   "cell_type": "code",
   "execution_count": 9,
   "id": "a09825d3",
   "metadata": {},
   "outputs": [
    {
     "name": "stdout",
     "output_type": "stream",
     "text": [
      "my dog name is Rodger\n",
      "my dog name is devil\n"
     ]
    }
   ],
   "source": [
    "class Dog():\n",
    "    attr = \"mammal\"\n",
    "    \n",
    "    def __init__(self,name):\n",
    "        self.name = name\n",
    "        \n",
    "    def gh(self):\n",
    "        print(\"my dog name is {}\".format(self.name))\n",
    "        \n",
    "rodger = Dog(\"Rodger\")\n",
    "devil = Dog(\"devil\")\n",
    "#print(\"Rodger is a {}\".format(rodger.__class__.attr))\n",
    "#print(\"Tommy is also a {}\".format(devil.__class__.attr))\n",
    "#print(\"My Dog name is {}\".format(devil.name))\n",
    "rodger.gh()\n",
    "devil.gh()"
   ]
  },
  {
   "cell_type": "code",
   "execution_count": 14,
   "id": "1327888d",
   "metadata": {},
   "outputs": [
    {
     "name": "stdout",
     "output_type": "stream",
     "text": [
      "My name is alish and I am from gulshan iqbal.\n",
      "My salary is: 60000\n",
      "Customer type: new\n"
     ]
    }
   ],
   "source": [
    "class Person:\n",
    "    def __init__(self, name, address):\n",
    "        self.name = name\n",
    "        self.address = address\n",
    "\n",
    "    def introduce(self):\n",
    "        return (f\"My name is {self.name} and I am from {self.address}.\")\n",
    "\n",
    "class Employee(Person):\n",
    "    def __init__(self, name, address, salary):\n",
    "        super().__init__(name, address)\n",
    "        self.salary = salary\n",
    "\n",
    "    def display_employee_info(self):\n",
    "        return (f\"My salary is: {self.salary}\")\n",
    "\n",
    "class Customer(Person):\n",
    "    def __init__(self,customer_type):\n",
    "        #super().__init__(name, address)\n",
    "        self.customer_type = customer_type\n",
    "\n",
    "    def display_customer_info(self):\n",
    "        return (f\"Customer type: {self.customer_type}\")\n",
    "\n",
    "# Creating instances of the Employee and Customer classes\n",
    "employee = Employee(\"alish\", \"gulshan iqbal\",60000)\n",
    "customer = Customer(\"new\")\n",
    "\n",
    "\n",
    "print(employee.introduce())  \n",
    "print(employee.display_employee_info())  \n",
    "\n",
    "#print(customer.introduce())  \n",
    "print(customer.display_customer_info())  \n"
   ]
  },
  {
   "cell_type": "code",
   "execution_count": null,
   "id": "d4a82d90",
   "metadata": {},
   "outputs": [],
   "source": []
  }
 ],
 "metadata": {
  "kernelspec": {
   "display_name": "Python 3 (ipykernel)",
   "language": "python",
   "name": "python3"
  },
  "language_info": {
   "codemirror_mode": {
    "name": "ipython",
    "version": 3
   },
   "file_extension": ".py",
   "mimetype": "text/x-python",
   "name": "python",
   "nbconvert_exporter": "python",
   "pygments_lexer": "ipython3",
   "version": "3.11.4"
  }
 },
 "nbformat": 4,
 "nbformat_minor": 5
}
